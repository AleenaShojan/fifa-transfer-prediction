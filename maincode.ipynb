{
 "cells": [
  {
   "cell_type": "code",
   "execution_count": 1,
   "metadata": {},
   "outputs": [],
   "source": [
    "import pandas as pd\n",
    "import numpy as np\n",
    "import matplotlib.pyplot as plt\n",
    "from tensorflow.keras.models import Sequential, load_model\n",
    "from tensorflow.keras.layers import LSTM, Dense, Dropout\n",
    "from sklearn.preprocessing import MinMaxScaler\n",
    "import streamlit as st\n"
   ]
  },
  {
   "cell_type": "code",
   "execution_count": 2,
   "metadata": {},
   "outputs": [
    {
     "name": "stderr",
     "output_type": "stream",
     "text": [
      "C:\\Users\\irind\\AppData\\Local\\Temp\\ipykernel_32124\\898331488.py:2: DtypeWarning: Columns (17,20,21,23,24) have mixed types. Specify dtype option on import or set low_memory=False.\n",
      "  df = pd.read_csv(r\"C:\\Users\\irind\\Downloads\\DL_Dataset\\female_players.csv\")\n"
     ]
    },
    {
     "data": {
      "text/html": [
       "<div>\n",
       "<style scoped>\n",
       "    .dataframe tbody tr th:only-of-type {\n",
       "        vertical-align: middle;\n",
       "    }\n",
       "\n",
       "    .dataframe tbody tr th {\n",
       "        vertical-align: top;\n",
       "    }\n",
       "\n",
       "    .dataframe thead th {\n",
       "        text-align: right;\n",
       "    }\n",
       "</style>\n",
       "<table border=\"1\" class=\"dataframe\">\n",
       "  <thead>\n",
       "    <tr style=\"text-align: right;\">\n",
       "      <th></th>\n",
       "      <th>player_id</th>\n",
       "      <th>player_url</th>\n",
       "      <th>fifa_version</th>\n",
       "      <th>fifa_update</th>\n",
       "      <th>fifa_update_date</th>\n",
       "      <th>short_name</th>\n",
       "      <th>long_name</th>\n",
       "      <th>player_positions</th>\n",
       "      <th>overall</th>\n",
       "      <th>potential</th>\n",
       "      <th>...</th>\n",
       "      <th>rdm</th>\n",
       "      <th>rwb</th>\n",
       "      <th>lb</th>\n",
       "      <th>lcb</th>\n",
       "      <th>cb</th>\n",
       "      <th>rcb</th>\n",
       "      <th>rb</th>\n",
       "      <th>gk</th>\n",
       "      <th>player_face_url</th>\n",
       "      <th>value_eur_log</th>\n",
       "    </tr>\n",
       "  </thead>\n",
       "  <tbody>\n",
       "    <tr>\n",
       "      <th>0</th>\n",
       "      <td>227125</td>\n",
       "      <td>/player/227125/sam-kerr/230009</td>\n",
       "      <td>23</td>\n",
       "      <td>9</td>\n",
       "      <td>2023-01-13</td>\n",
       "      <td>S. Kerr</td>\n",
       "      <td>Samantha May Kerr</td>\n",
       "      <td>ST</td>\n",
       "      <td>1.000000</td>\n",
       "      <td>0.903226</td>\n",
       "      <td>...</td>\n",
       "      <td>62+3</td>\n",
       "      <td>64+3</td>\n",
       "      <td>61+3</td>\n",
       "      <td>58+3</td>\n",
       "      <td>58+3</td>\n",
       "      <td>58+3</td>\n",
       "      <td>61+3</td>\n",
       "      <td>20+3</td>\n",
       "      <td>https://cdn.sofifa.net/players/227/125/23_120.png</td>\n",
       "      <td>18.717075</td>\n",
       "    </tr>\n",
       "    <tr>\n",
       "      <th>1</th>\n",
       "      <td>227316</td>\n",
       "      <td>/player/227316/wendie-renard/230009</td>\n",
       "      <td>23</td>\n",
       "      <td>9</td>\n",
       "      <td>2023-01-13</td>\n",
       "      <td>W. Renard</td>\n",
       "      <td>Wéndèleine Thérèse Renard</td>\n",
       "      <td>CB</td>\n",
       "      <td>1.000000</td>\n",
       "      <td>0.903226</td>\n",
       "      <td>...</td>\n",
       "      <td>87+3</td>\n",
       "      <td>80+3</td>\n",
       "      <td>82+3</td>\n",
       "      <td>91</td>\n",
       "      <td>91</td>\n",
       "      <td>91</td>\n",
       "      <td>82+3</td>\n",
       "      <td>21+3</td>\n",
       "      <td>https://cdn.sofifa.net/players/227/316/23_120.png</td>\n",
       "      <td>18.309749</td>\n",
       "    </tr>\n",
       "    <tr>\n",
       "      <th>3</th>\n",
       "      <td>227310</td>\n",
       "      <td>/player/227310/ada-hegerberg/230009</td>\n",
       "      <td>23</td>\n",
       "      <td>9</td>\n",
       "      <td>2023-01-13</td>\n",
       "      <td>A. Hegerberg</td>\n",
       "      <td>Ada Martine Stolsmo Hegerberg</td>\n",
       "      <td>ST</td>\n",
       "      <td>0.970588</td>\n",
       "      <td>0.903226</td>\n",
       "      <td>...</td>\n",
       "      <td>61+3</td>\n",
       "      <td>63+3</td>\n",
       "      <td>60+3</td>\n",
       "      <td>56+3</td>\n",
       "      <td>56+3</td>\n",
       "      <td>56+3</td>\n",
       "      <td>60+3</td>\n",
       "      <td>20+3</td>\n",
       "      <td>https://cdn.sofifa.net/players/227/310/23_120.png</td>\n",
       "      <td>18.778355</td>\n",
       "    </tr>\n",
       "    <tr>\n",
       "      <th>5</th>\n",
       "      <td>245802</td>\n",
       "      <td>/player/245802/beth-mead/230009</td>\n",
       "      <td>23</td>\n",
       "      <td>9</td>\n",
       "      <td>2023-01-13</td>\n",
       "      <td>B. Mead</td>\n",
       "      <td>Bethany Jane Mead</td>\n",
       "      <td>RW, LW, RM</td>\n",
       "      <td>0.941176</td>\n",
       "      <td>0.838710</td>\n",
       "      <td>...</td>\n",
       "      <td>76+3</td>\n",
       "      <td>80+3</td>\n",
       "      <td>78+3</td>\n",
       "      <td>70+3</td>\n",
       "      <td>70+3</td>\n",
       "      <td>70+3</td>\n",
       "      <td>78+3</td>\n",
       "      <td>22+3</td>\n",
       "      <td>https://cdn.sofifa.net/players/245/802/23_120.png</td>\n",
       "      <td>18.515991</td>\n",
       "    </tr>\n",
       "    <tr>\n",
       "      <th>6</th>\n",
       "      <td>246272</td>\n",
       "      <td>/player/246272/marie-katoto/230009</td>\n",
       "      <td>23</td>\n",
       "      <td>9</td>\n",
       "      <td>2023-01-13</td>\n",
       "      <td>M. Katoto</td>\n",
       "      <td>Marie-Antoinette Oda Katoto</td>\n",
       "      <td>ST</td>\n",
       "      <td>0.941176</td>\n",
       "      <td>0.967742</td>\n",
       "      <td>...</td>\n",
       "      <td>60+3</td>\n",
       "      <td>63+3</td>\n",
       "      <td>60+3</td>\n",
       "      <td>54+3</td>\n",
       "      <td>54+3</td>\n",
       "      <td>54+3</td>\n",
       "      <td>60+3</td>\n",
       "      <td>20+3</td>\n",
       "      <td>https://cdn.sofifa.net/players/246/272/23_120.png</td>\n",
       "      <td>18.822807</td>\n",
       "    </tr>\n",
       "  </tbody>\n",
       "</table>\n",
       "<p>5 rows × 111 columns</p>\n",
       "</div>"
      ],
      "text/plain": [
       "   player_id                           player_url  fifa_version  fifa_update  \\\n",
       "0     227125       /player/227125/sam-kerr/230009            23            9   \n",
       "1     227316  /player/227316/wendie-renard/230009            23            9   \n",
       "3     227310  /player/227310/ada-hegerberg/230009            23            9   \n",
       "5     245802      /player/245802/beth-mead/230009            23            9   \n",
       "6     246272   /player/246272/marie-katoto/230009            23            9   \n",
       "\n",
       "  fifa_update_date    short_name                      long_name  \\\n",
       "0       2023-01-13       S. Kerr              Samantha May Kerr   \n",
       "1       2023-01-13     W. Renard      Wéndèleine Thérèse Renard   \n",
       "3       2023-01-13  A. Hegerberg  Ada Martine Stolsmo Hegerberg   \n",
       "5       2023-01-13       B. Mead              Bethany Jane Mead   \n",
       "6       2023-01-13     M. Katoto    Marie-Antoinette Oda Katoto   \n",
       "\n",
       "  player_positions   overall  potential  ...   rdm   rwb    lb   lcb    cb  \\\n",
       "0               ST  1.000000   0.903226  ...  62+3  64+3  61+3  58+3  58+3   \n",
       "1               CB  1.000000   0.903226  ...  87+3  80+3  82+3    91    91   \n",
       "3               ST  0.970588   0.903226  ...  61+3  63+3  60+3  56+3  56+3   \n",
       "5       RW, LW, RM  0.941176   0.838710  ...  76+3  80+3  78+3  70+3  70+3   \n",
       "6               ST  0.941176   0.967742  ...  60+3  63+3  60+3  54+3  54+3   \n",
       "\n",
       "    rcb    rb    gk                                    player_face_url  \\\n",
       "0  58+3  61+3  20+3  https://cdn.sofifa.net/players/227/125/23_120.png   \n",
       "1    91  82+3  21+3  https://cdn.sofifa.net/players/227/316/23_120.png   \n",
       "3  56+3  60+3  20+3  https://cdn.sofifa.net/players/227/310/23_120.png   \n",
       "5  70+3  78+3  22+3  https://cdn.sofifa.net/players/245/802/23_120.png   \n",
       "6  54+3  60+3  20+3  https://cdn.sofifa.net/players/246/272/23_120.png   \n",
       "\n",
       "   value_eur_log  \n",
       "0      18.717075  \n",
       "1      18.309749  \n",
       "3      18.778355  \n",
       "5      18.515991  \n",
       "6      18.822807  \n",
       "\n",
       "[5 rows x 111 columns]"
      ]
     },
     "execution_count": 2,
     "metadata": {},
     "output_type": "execute_result"
    }
   ],
   "source": [
    "# Load your dataset (assuming df is your DataFrame)\n",
    "df = pd.read_csv(r\"C:\\Users\\irind\\Downloads\\DL_Dataset\\female_players.csv\")\n",
    "\n",
    "# List of features for LSTM\n",
    "features = [\"overall\", \"potential\", \"pace\", \"shooting\", \"passing\"]\n",
    "target = \"value_eur\"  # Your target column (value_eur in this case)\n",
    "\n",
    "# Drop rows with missing target values\n",
    "df = df.dropna(subset=[target])\n",
    "\n",
    "# Fill missing feature values with mean of the column\n",
    "df[features] = df[features].fillna(df[features].mean())\n",
    "\n",
    "# Normalize the features\n",
    "scaler = MinMaxScaler()\n",
    "df[features] = scaler.fit_transform(df[features])\n",
    "\n",
    "# Apply log transformation to target variable (if applicable)\n",
    "df[\"value_eur_log\"] = np.log1p(df[\"value_eur\"])  # Use log1p to handle zero values\n",
    "\n",
    "# Display the first few rows of the preprocessed data\n",
    "df.head()\n"
   ]
  },
  {
   "cell_type": "code",
   "execution_count": 3,
   "metadata": {},
   "outputs": [
    {
     "name": "stdout",
     "output_type": "stream",
     "text": [
      "Training data shape: (3860, 5, 5)\n",
      "Test data shape: (966, 5, 5)\n"
     ]
    }
   ],
   "source": [
    "# Create sequences of features for LSTM input\n",
    "sequence_length = 5  # Number of time steps\n",
    "\n",
    "def create_sequences(data, features, seq_len):\n",
    "    sequences, labels = [], []\n",
    "    for i in range(len(data) - seq_len):\n",
    "        seq = data.iloc[i:i + seq_len][features].values\n",
    "        label = data.iloc[i + seq_len][\"value_eur_log\"]  # Using log-transformed target\n",
    "        sequences.append(seq)\n",
    "        labels.append(label)\n",
    "    return np.array(sequences), np.array(labels)\n",
    "\n",
    "# Generate sequences and labels\n",
    "lstm_sequences, lstm_labels = create_sequences(df, features, sequence_length)\n",
    "\n",
    "# Split into training and test sets\n",
    "from sklearn.model_selection import train_test_split\n",
    "lstm_sequences_train, lstm_sequences_test, y_train, y_test = train_test_split(lstm_sequences, lstm_labels, test_size=0.2, random_state=42)\n",
    "\n",
    "# Display the shapes of the sequences\n",
    "print(\"Training data shape:\", lstm_sequences_train.shape)\n",
    "print(\"Test data shape:\", lstm_sequences_test.shape)\n"
   ]
  },
  {
   "cell_type": "code",
   "execution_count": 4,
   "metadata": {},
   "outputs": [
    {
     "name": "stderr",
     "output_type": "stream",
     "text": [
      "C:\\Users\\irind\\AppData\\Local\\Packages\\PythonSoftwareFoundation.Python.3.12_qbz5n2kfra8p0\\LocalCache\\local-packages\\Python312\\site-packages\\keras\\src\\layers\\rnn\\rnn.py:204: UserWarning: Do not pass an `input_shape`/`input_dim` argument to a layer. When using Sequential models, prefer using an `Input(shape)` object as the first layer in the model instead.\n",
      "  super().__init__(**kwargs)\n"
     ]
    },
    {
     "data": {
      "text/html": [
       "<pre style=\"white-space:pre;overflow-x:auto;line-height:normal;font-family:Menlo,'DejaVu Sans Mono',consolas,'Courier New',monospace\"><span style=\"font-weight: bold\">Model: \"sequential\"</span>\n",
       "</pre>\n"
      ],
      "text/plain": [
       "\u001b[1mModel: \"sequential\"\u001b[0m\n"
      ]
     },
     "metadata": {},
     "output_type": "display_data"
    },
    {
     "data": {
      "text/html": [
       "<pre style=\"white-space:pre;overflow-x:auto;line-height:normal;font-family:Menlo,'DejaVu Sans Mono',consolas,'Courier New',monospace\">┏━━━━━━━━━━━━━━━━━━━━━━━━━━━━━━━━━┳━━━━━━━━━━━━━━━━━━━━━━━━┳━━━━━━━━━━━━━━━┓\n",
       "┃<span style=\"font-weight: bold\"> Layer (type)                    </span>┃<span style=\"font-weight: bold\"> Output Shape           </span>┃<span style=\"font-weight: bold\">       Param # </span>┃\n",
       "┡━━━━━━━━━━━━━━━━━━━━━━━━━━━━━━━━━╇━━━━━━━━━━━━━━━━━━━━━━━━╇━━━━━━━━━━━━━━━┩\n",
       "│ lstm (<span style=\"color: #0087ff; text-decoration-color: #0087ff\">LSTM</span>)                     │ (<span style=\"color: #00d7ff; text-decoration-color: #00d7ff\">None</span>, <span style=\"color: #00af00; text-decoration-color: #00af00\">64</span>)             │        <span style=\"color: #00af00; text-decoration-color: #00af00\">17,920</span> │\n",
       "├─────────────────────────────────┼────────────────────────┼───────────────┤\n",
       "│ dropout (<span style=\"color: #0087ff; text-decoration-color: #0087ff\">Dropout</span>)               │ (<span style=\"color: #00d7ff; text-decoration-color: #00d7ff\">None</span>, <span style=\"color: #00af00; text-decoration-color: #00af00\">64</span>)             │             <span style=\"color: #00af00; text-decoration-color: #00af00\">0</span> │\n",
       "├─────────────────────────────────┼────────────────────────┼───────────────┤\n",
       "│ dense (<span style=\"color: #0087ff; text-decoration-color: #0087ff\">Dense</span>)                   │ (<span style=\"color: #00d7ff; text-decoration-color: #00d7ff\">None</span>, <span style=\"color: #00af00; text-decoration-color: #00af00\">32</span>)             │         <span style=\"color: #00af00; text-decoration-color: #00af00\">2,080</span> │\n",
       "├─────────────────────────────────┼────────────────────────┼───────────────┤\n",
       "│ dense_1 (<span style=\"color: #0087ff; text-decoration-color: #0087ff\">Dense</span>)                 │ (<span style=\"color: #00d7ff; text-decoration-color: #00d7ff\">None</span>, <span style=\"color: #00af00; text-decoration-color: #00af00\">1</span>)              │            <span style=\"color: #00af00; text-decoration-color: #00af00\">33</span> │\n",
       "└─────────────────────────────────┴────────────────────────┴───────────────┘\n",
       "</pre>\n"
      ],
      "text/plain": [
       "┏━━━━━━━━━━━━━━━━━━━━━━━━━━━━━━━━━┳━━━━━━━━━━━━━━━━━━━━━━━━┳━━━━━━━━━━━━━━━┓\n",
       "┃\u001b[1m \u001b[0m\u001b[1mLayer (type)                   \u001b[0m\u001b[1m \u001b[0m┃\u001b[1m \u001b[0m\u001b[1mOutput Shape          \u001b[0m\u001b[1m \u001b[0m┃\u001b[1m \u001b[0m\u001b[1m      Param #\u001b[0m\u001b[1m \u001b[0m┃\n",
       "┡━━━━━━━━━━━━━━━━━━━━━━━━━━━━━━━━━╇━━━━━━━━━━━━━━━━━━━━━━━━╇━━━━━━━━━━━━━━━┩\n",
       "│ lstm (\u001b[38;5;33mLSTM\u001b[0m)                     │ (\u001b[38;5;45mNone\u001b[0m, \u001b[38;5;34m64\u001b[0m)             │        \u001b[38;5;34m17,920\u001b[0m │\n",
       "├─────────────────────────────────┼────────────────────────┼───────────────┤\n",
       "│ dropout (\u001b[38;5;33mDropout\u001b[0m)               │ (\u001b[38;5;45mNone\u001b[0m, \u001b[38;5;34m64\u001b[0m)             │             \u001b[38;5;34m0\u001b[0m │\n",
       "├─────────────────────────────────┼────────────────────────┼───────────────┤\n",
       "│ dense (\u001b[38;5;33mDense\u001b[0m)                   │ (\u001b[38;5;45mNone\u001b[0m, \u001b[38;5;34m32\u001b[0m)             │         \u001b[38;5;34m2,080\u001b[0m │\n",
       "├─────────────────────────────────┼────────────────────────┼───────────────┤\n",
       "│ dense_1 (\u001b[38;5;33mDense\u001b[0m)                 │ (\u001b[38;5;45mNone\u001b[0m, \u001b[38;5;34m1\u001b[0m)              │            \u001b[38;5;34m33\u001b[0m │\n",
       "└─────────────────────────────────┴────────────────────────┴───────────────┘\n"
      ]
     },
     "metadata": {},
     "output_type": "display_data"
    },
    {
     "data": {
      "text/html": [
       "<pre style=\"white-space:pre;overflow-x:auto;line-height:normal;font-family:Menlo,'DejaVu Sans Mono',consolas,'Courier New',monospace\"><span style=\"font-weight: bold\"> Total params: </span><span style=\"color: #00af00; text-decoration-color: #00af00\">20,033</span> (78.25 KB)\n",
       "</pre>\n"
      ],
      "text/plain": [
       "\u001b[1m Total params: \u001b[0m\u001b[38;5;34m20,033\u001b[0m (78.25 KB)\n"
      ]
     },
     "metadata": {},
     "output_type": "display_data"
    },
    {
     "data": {
      "text/html": [
       "<pre style=\"white-space:pre;overflow-x:auto;line-height:normal;font-family:Menlo,'DejaVu Sans Mono',consolas,'Courier New',monospace\"><span style=\"font-weight: bold\"> Trainable params: </span><span style=\"color: #00af00; text-decoration-color: #00af00\">20,033</span> (78.25 KB)\n",
       "</pre>\n"
      ],
      "text/plain": [
       "\u001b[1m Trainable params: \u001b[0m\u001b[38;5;34m20,033\u001b[0m (78.25 KB)\n"
      ]
     },
     "metadata": {},
     "output_type": "display_data"
    },
    {
     "data": {
      "text/html": [
       "<pre style=\"white-space:pre;overflow-x:auto;line-height:normal;font-family:Menlo,'DejaVu Sans Mono',consolas,'Courier New',monospace\"><span style=\"font-weight: bold\"> Non-trainable params: </span><span style=\"color: #00af00; text-decoration-color: #00af00\">0</span> (0.00 B)\n",
       "</pre>\n"
      ],
      "text/plain": [
       "\u001b[1m Non-trainable params: \u001b[0m\u001b[38;5;34m0\u001b[0m (0.00 B)\n"
      ]
     },
     "metadata": {},
     "output_type": "display_data"
    }
   ],
   "source": [
    "# Define the LSTM model\n",
    "model = Sequential()\n",
    "model.add(LSTM(64, input_shape=(lstm_sequences_train.shape[1], lstm_sequences_train.shape[2]), return_sequences=False))\n",
    "model.add(Dropout(0.2))  # Dropout to prevent overfitting\n",
    "model.add(Dense(32, activation='relu'))\n",
    "model.add(Dense(1))  # Single output for regression\n",
    "\n",
    "# Compile the model\n",
    "model.compile(optimizer=\"adam\", loss=\"mean_squared_error\", metrics=[\"mae\"])\n",
    "\n",
    "# Model summary\n",
    "model.summary()\n"
   ]
  },
  {
   "cell_type": "code",
   "execution_count": 5,
   "metadata": {},
   "outputs": [
    {
     "name": "stdout",
     "output_type": "stream",
     "text": [
      "Epoch 1/10\n",
      "\u001b[1m97/97\u001b[0m \u001b[32m━━━━━━━━━━━━━━━━━━━━\u001b[0m\u001b[37m\u001b[0m \u001b[1m4s\u001b[0m 7ms/step - loss: 165.9329 - mae: 11.6960 - val_loss: 1.3252 - val_mae: 0.9081\n",
      "Epoch 2/10\n",
      "\u001b[1m97/97\u001b[0m \u001b[32m━━━━━━━━━━━━━━━━━━━━\u001b[0m\u001b[37m\u001b[0m \u001b[1m0s\u001b[0m 4ms/step - loss: 2.2263 - mae: 1.1937 - val_loss: 1.1037 - val_mae: 0.8123\n",
      "Epoch 3/10\n",
      "\u001b[1m97/97\u001b[0m \u001b[32m━━━━━━━━━━━━━━━━━━━━\u001b[0m\u001b[37m\u001b[0m \u001b[1m0s\u001b[0m 4ms/step - loss: 2.0556 - mae: 1.1335 - val_loss: 0.9377 - val_mae: 0.7016\n",
      "Epoch 4/10\n",
      "\u001b[1m97/97\u001b[0m \u001b[32m━━━━━━━━━━━━━━━━━━━━\u001b[0m\u001b[37m\u001b[0m \u001b[1m0s\u001b[0m 4ms/step - loss: 1.6884 - mae: 1.0182 - val_loss: 0.8930 - val_mae: 0.6424\n",
      "Epoch 5/10\n",
      "\u001b[1m97/97\u001b[0m \u001b[32m━━━━━━━━━━━━━━━━━━━━\u001b[0m\u001b[37m\u001b[0m \u001b[1m0s\u001b[0m 4ms/step - loss: 1.7076 - mae: 1.0149 - val_loss: 0.8684 - val_mae: 0.6150\n",
      "Epoch 6/10\n",
      "\u001b[1m97/97\u001b[0m \u001b[32m━━━━━━━━━━━━━━━━━━━━\u001b[0m\u001b[37m\u001b[0m \u001b[1m0s\u001b[0m 4ms/step - loss: 1.7515 - mae: 1.0271 - val_loss: 0.8376 - val_mae: 0.5975\n",
      "Epoch 7/10\n",
      "\u001b[1m97/97\u001b[0m \u001b[32m━━━━━━━━━━━━━━━━━━━━\u001b[0m\u001b[37m\u001b[0m \u001b[1m0s\u001b[0m 4ms/step - loss: 1.5650 - mae: 0.9641 - val_loss: 0.7608 - val_mae: 0.5590\n",
      "Epoch 8/10\n",
      "\u001b[1m97/97\u001b[0m \u001b[32m━━━━━━━━━━━━━━━━━━━━\u001b[0m\u001b[37m\u001b[0m \u001b[1m1s\u001b[0m 5ms/step - loss: 1.4212 - mae: 0.9155 - val_loss: 0.7228 - val_mae: 0.5339\n",
      "Epoch 9/10\n",
      "\u001b[1m97/97\u001b[0m \u001b[32m━━━━━━━━━━━━━━━━━━━━\u001b[0m\u001b[37m\u001b[0m \u001b[1m0s\u001b[0m 4ms/step - loss: 1.5298 - mae: 0.9544 - val_loss: 0.7212 - val_mae: 0.5340\n",
      "Epoch 10/10\n",
      "\u001b[1m97/97\u001b[0m \u001b[32m━━━━━━━━━━━━━━━━━━━━\u001b[0m\u001b[37m\u001b[0m \u001b[1m0s\u001b[0m 4ms/step - loss: 1.4681 - mae: 0.9382 - val_loss: 0.6658 - val_mae: 0.5033\n"
     ]
    },
    {
     "data": {
      "image/png": "[encoded data removed]",
      "text/plain": [
       "<Figure size 640x480 with 1 Axes>"
      ]
     },
     "metadata": {},
     "output_type": "display_data"
    }
   ],
   "source": [
    "# Train the model\n",
    "history = model.fit(\n",
    "    lstm_sequences_train,\n",
    "    y_train,\n",
    "    validation_split=0.2,\n",
    "    epochs=10,  # Adjust epochs as needed\n",
    "    batch_size=32\n",
    ")\n",
    "\n",
    "# Plot training history (Loss vs Epochs)\n",
    "plt.plot(history.history['loss'], label='Training Loss')\n",
    "plt.plot(history.history['val_loss'], label='Validation Loss')\n",
    "plt.title('Model Loss')\n",
    "plt.xlabel('Epochs')\n",
    "plt.ylabel('Loss')\n",
    "plt.legend()\n",
    "plt.show()\n"
   ]
  },
  {
   "cell_type": "code",
   "execution_count": 6,
   "metadata": {},
   "outputs": [
    {
     "name": "stdout",
     "output_type": "stream",
     "text": [
      "\u001b[1m31/31\u001b[0m \u001b[32m━━━━━━━━━━━━━━━━━━━━\u001b[0m\u001b[37m\u001b[0m \u001b[1m0s\u001b[0m 9ms/step\n"
     ]
    },
    {
     "data": {
      "text/html": [
       "<div>\n",
       "<style scoped>\n",
       "    .dataframe tbody tr th:only-of-type {\n",
       "        vertical-align: middle;\n",
       "    }\n",
       "\n",
       "    .dataframe tbody tr th {\n",
       "        vertical-align: top;\n",
       "    }\n",
       "\n",
       "    .dataframe thead th {\n",
       "        text-align: right;\n",
       "    }\n",
       "</style>\n",
       "<table border=\"1\" class=\"dataframe\">\n",
       "  <thead>\n",
       "    <tr style=\"text-align: right;\">\n",
       "      <th></th>\n",
       "      <th>Predicted Value</th>\n",
       "      <th>Actual Value</th>\n",
       "    </tr>\n",
       "  </thead>\n",
       "  <tbody>\n",
       "    <tr>\n",
       "      <th>0</th>\n",
       "      <td>30950332.00</td>\n",
       "      <td>56000000.0</td>\n",
       "    </tr>\n",
       "    <tr>\n",
       "      <th>1</th>\n",
       "      <td>54508208.00</td>\n",
       "      <td>66500000.0</td>\n",
       "    </tr>\n",
       "    <tr>\n",
       "      <th>2</th>\n",
       "      <td>3919241.25</td>\n",
       "      <td>2400000.0</td>\n",
       "    </tr>\n",
       "    <tr>\n",
       "      <th>3</th>\n",
       "      <td>9004019.00</td>\n",
       "      <td>12000000.0</td>\n",
       "    </tr>\n",
       "    <tr>\n",
       "      <th>4</th>\n",
       "      <td>3759376.00</td>\n",
       "      <td>2000000.0</td>\n",
       "    </tr>\n",
       "    <tr>\n",
       "      <th>...</th>\n",
       "      <td>...</td>\n",
       "      <td>...</td>\n",
       "    </tr>\n",
       "    <tr>\n",
       "      <th>961</th>\n",
       "      <td>4926878.00</td>\n",
       "      <td>2500000.0</td>\n",
       "    </tr>\n",
       "    <tr>\n",
       "      <th>962</th>\n",
       "      <td>3531822.50</td>\n",
       "      <td>1100000.0</td>\n",
       "    </tr>\n",
       "    <tr>\n",
       "      <th>963</th>\n",
       "      <td>4716011.50</td>\n",
       "      <td>5500000.0</td>\n",
       "    </tr>\n",
       "    <tr>\n",
       "      <th>964</th>\n",
       "      <td>5304620.00</td>\n",
       "      <td>4200000.0</td>\n",
       "    </tr>\n",
       "    <tr>\n",
       "      <th>965</th>\n",
       "      <td>2021527.25</td>\n",
       "      <td>1700000.0</td>\n",
       "    </tr>\n",
       "  </tbody>\n",
       "</table>\n",
       "<p>966 rows × 2 columns</p>\n",
       "</div>"
      ],
      "text/plain": [
       "     Predicted Value  Actual Value\n",
       "0        30950332.00    56000000.0\n",
       "1        54508208.00    66500000.0\n",
       "2         3919241.25     2400000.0\n",
       "3         9004019.00    12000000.0\n",
       "4         3759376.00     2000000.0\n",
       "..               ...           ...\n",
       "961       4926878.00     2500000.0\n",
       "962       3531822.50     1100000.0\n",
       "963       4716011.50     5500000.0\n",
       "964       5304620.00     4200000.0\n",
       "965       2021527.25     1700000.0\n",
       "\n",
       "[966 rows x 2 columns]"
      ]
     },
     "metadata": {},
     "output_type": "display_data"
    }
   ],
   "source": [
    "# Predict on the test set\n",
    "predictions = model.predict(lstm_sequences_test)\n",
    "\n",
    "# Reverse the log transformation on predicted and actual values\n",
    "predicted_values = np.expm1(predictions.flatten())  # Reverse log transformation\n",
    "actual_values = np.expm1(y_test.flatten())  # Reverse log transformation\n",
    "\n",
    "# Create a DataFrame for better visualization\n",
    "results_df = pd.DataFrame({\n",
    "    \"Predicted Value\": predicted_values,\n",
    "    \"Actual Value\": actual_values\n",
    "})\n",
    "\n",
    "# Display the first few rows of the DataFrame\n",
    "import IPython.display as display\n",
    "display.display(results_df)\n"
   ]
  }
 ],
 "metadata": {
  "kernelspec": {
   "display_name": "Python 3",
   "language": "python",
   "name": "python3"
  },
  "language_info": {
   "codemirror_mode": {
    "name": "ipython",
    "version": 3
   },
   "file_extension": ".py",
   "mimetype": "text/x-python",
   "name": "python",
   "nbconvert_exporter": "python",
   "pygments_lexer": "ipython3",
   "version": "3.12.8"
  }
 },
 "nbformat": 4,
 "nbformat_minor": 2
}
